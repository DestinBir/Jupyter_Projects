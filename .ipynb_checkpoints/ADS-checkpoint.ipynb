{
 "cells": [
  {
   "cell_type": "markdown",
   "id": "e492de9a",
   "metadata": {},
   "source": [
    "# TRAVAIL PRATIQUE DU COURS D'ASD"
   ]
  },
  {
   "cell_type": "markdown",
   "id": "80056c22",
   "metadata": {},
   "source": [
    "## Présenté par BIRINGANINE BASEME DESTIN"
   ]
  },
  {
   "cell_type": "code",
   "execution_count": 7,
   "id": "ec103a02",
   "metadata": {},
   "outputs": [
    {
     "name": "stdout",
     "output_type": "stream",
     "text": [
      "Defaulting to user installation because normal site-packages is not writeable\n",
      "Requirement already satisfied: nbconvert[webpdf] in c:\\programdata\\anaconda3\\lib\\site-packages (6.5.4)\n",
      "Requirement already satisfied: packaging in c:\\programdata\\anaconda3\\lib\\site-packages (from nbconvert[webpdf]) (22.0)\n",
      "Requirement already satisfied: mistune<2,>=0.8.1 in c:\\programdata\\anaconda3\\lib\\site-packages (from nbconvert[webpdf]) (0.8.4)\n",
      "Requirement already satisfied: pygments>=2.4.1 in c:\\programdata\\anaconda3\\lib\\site-packages (from nbconvert[webpdf]) (2.11.2)\n",
      "Requirement already satisfied: beautifulsoup4 in c:\\programdata\\anaconda3\\lib\\site-packages (from nbconvert[webpdf]) (4.11.1)\n",
      "Requirement already satisfied: lxml in c:\\programdata\\anaconda3\\lib\\site-packages (from nbconvert[webpdf]) (4.9.1)\n",
      "Requirement already satisfied: tinycss2 in c:\\programdata\\anaconda3\\lib\\site-packages (from nbconvert[webpdf]) (1.2.1)\n",
      "Requirement already satisfied: entrypoints>=0.2.2 in c:\\programdata\\anaconda3\\lib\\site-packages (from nbconvert[webpdf]) (0.4)\n",
      "Requirement already satisfied: nbformat>=5.1 in c:\\programdata\\anaconda3\\lib\\site-packages (from nbconvert[webpdf]) (5.7.0)\n",
      "Requirement already satisfied: jinja2>=3.0 in c:\\programdata\\anaconda3\\lib\\site-packages (from nbconvert[webpdf]) (3.1.2)\n",
      "Requirement already satisfied: traitlets>=5.0 in c:\\programdata\\anaconda3\\lib\\site-packages (from nbconvert[webpdf]) (5.7.1)\n",
      "Requirement already satisfied: nbclient>=0.5.0 in c:\\programdata\\anaconda3\\lib\\site-packages (from nbconvert[webpdf]) (0.5.13)\n",
      "Requirement already satisfied: jupyterlab-pygments in c:\\programdata\\anaconda3\\lib\\site-packages (from nbconvert[webpdf]) (0.1.2)\n",
      "Requirement already satisfied: pandocfilters>=1.4.1 in c:\\programdata\\anaconda3\\lib\\site-packages (from nbconvert[webpdf]) (1.5.0)\n",
      "Requirement already satisfied: MarkupSafe>=2.0 in c:\\programdata\\anaconda3\\lib\\site-packages (from nbconvert[webpdf]) (2.1.1)\n",
      "Requirement already satisfied: jupyter-core>=4.7 in c:\\programdata\\anaconda3\\lib\\site-packages (from nbconvert[webpdf]) (5.2.0)\n",
      "Requirement already satisfied: defusedxml in c:\\programdata\\anaconda3\\lib\\site-packages (from nbconvert[webpdf]) (0.7.1)\n",
      "Requirement already satisfied: bleach in c:\\programdata\\anaconda3\\lib\\site-packages (from nbconvert[webpdf]) (4.1.0)\n",
      "Collecting pyppeteer<1.1,>=1\n",
      "  Downloading pyppeteer-1.0.2-py3-none-any.whl (83 kB)\n",
      "     -------------------------------------- 83.4/83.4 kB 585.1 kB/s eta 0:00:00\n",
      "Requirement already satisfied: platformdirs>=2.5 in c:\\programdata\\anaconda3\\lib\\site-packages (from jupyter-core>=4.7->nbconvert[webpdf]) (2.5.2)\n",
      "Requirement already satisfied: pywin32>=1.0 in c:\\programdata\\anaconda3\\lib\\site-packages (from jupyter-core>=4.7->nbconvert[webpdf]) (305.1)\n",
      "Requirement already satisfied: nest-asyncio in c:\\programdata\\anaconda3\\lib\\site-packages (from nbclient>=0.5.0->nbconvert[webpdf]) (1.5.6)\n",
      "Requirement already satisfied: jupyter-client>=6.1.5 in c:\\programdata\\anaconda3\\lib\\site-packages (from nbclient>=0.5.0->nbconvert[webpdf]) (7.3.4)\n",
      "Requirement already satisfied: fastjsonschema in c:\\programdata\\anaconda3\\lib\\site-packages (from nbformat>=5.1->nbconvert[webpdf]) (2.16.2)\n",
      "Requirement already satisfied: jsonschema>=2.6 in c:\\programdata\\anaconda3\\lib\\site-packages (from nbformat>=5.1->nbconvert[webpdf]) (4.17.3)\n",
      "Requirement already satisfied: importlib-metadata>=1.4 in c:\\programdata\\anaconda3\\lib\\site-packages (from pyppeteer<1.1,>=1->nbconvert[webpdf]) (4.11.3)\n",
      "Requirement already satisfied: urllib3<2.0.0,>=1.25.8 in c:\\programdata\\anaconda3\\lib\\site-packages (from pyppeteer<1.1,>=1->nbconvert[webpdf]) (1.26.14)\n",
      "Requirement already satisfied: tqdm<5.0.0,>=4.42.1 in c:\\programdata\\anaconda3\\lib\\site-packages (from pyppeteer<1.1,>=1->nbconvert[webpdf]) (4.64.1)\n",
      "Collecting pyee<9.0.0,>=8.1.0\n",
      "  Downloading pyee-8.2.2-py2.py3-none-any.whl (12 kB)\n",
      "Requirement already satisfied: certifi>=2021 in c:\\programdata\\anaconda3\\lib\\site-packages (from pyppeteer<1.1,>=1->nbconvert[webpdf]) (2022.12.7)\n",
      "Collecting websockets<11.0,>=10.0\n",
      "  Downloading websockets-10.4-cp310-cp310-win_amd64.whl (101 kB)\n",
      "     -------------------------------------- 101.4/101.4 kB 1.5 MB/s eta 0:00:00\n",
      "Requirement already satisfied: appdirs<2.0.0,>=1.4.3 in c:\\programdata\\anaconda3\\lib\\site-packages (from pyppeteer<1.1,>=1->nbconvert[webpdf]) (1.4.4)\n",
      "Requirement already satisfied: soupsieve>1.2 in c:\\programdata\\anaconda3\\lib\\site-packages (from beautifulsoup4->nbconvert[webpdf]) (2.3.2.post1)\n",
      "Requirement already satisfied: webencodings in c:\\programdata\\anaconda3\\lib\\site-packages (from bleach->nbconvert[webpdf]) (0.5.1)\n",
      "Requirement already satisfied: six>=1.9.0 in c:\\programdata\\anaconda3\\lib\\site-packages (from bleach->nbconvert[webpdf]) (1.16.0)\n",
      "Requirement already satisfied: zipp>=0.5 in c:\\programdata\\anaconda3\\lib\\site-packages (from importlib-metadata>=1.4->pyppeteer<1.1,>=1->nbconvert[webpdf]) (3.11.0)\n",
      "Requirement already satisfied: pyrsistent!=0.17.0,!=0.17.1,!=0.17.2,>=0.14.0 in c:\\programdata\\anaconda3\\lib\\site-packages (from jsonschema>=2.6->nbformat>=5.1->nbconvert[webpdf]) (0.18.0)\n",
      "Requirement already satisfied: attrs>=17.4.0 in c:\\programdata\\anaconda3\\lib\\site-packages (from jsonschema>=2.6->nbformat>=5.1->nbconvert[webpdf]) (22.1.0)\n",
      "Requirement already satisfied: pyzmq>=23.0 in c:\\programdata\\anaconda3\\lib\\site-packages (from jupyter-client>=6.1.5->nbclient>=0.5.0->nbconvert[webpdf]) (23.2.0)\n",
      "Requirement already satisfied: python-dateutil>=2.8.2 in c:\\programdata\\anaconda3\\lib\\site-packages (from jupyter-client>=6.1.5->nbclient>=0.5.0->nbconvert[webpdf]) (2.8.2)\n",
      "Requirement already satisfied: tornado>=6.0 in c:\\programdata\\anaconda3\\lib\\site-packages (from jupyter-client>=6.1.5->nbclient>=0.5.0->nbconvert[webpdf]) (6.1)\n",
      "Requirement already satisfied: colorama in c:\\programdata\\anaconda3\\lib\\site-packages (from tqdm<5.0.0,>=4.42.1->pyppeteer<1.1,>=1->nbconvert[webpdf]) (0.4.6)\n",
      "Installing collected packages: pyee, websockets, pyppeteer\n",
      "Successfully installed pyee-8.2.2 pyppeteer-1.0.2 websockets-10.4\n",
      "Note: you may need to restart the kernel to use updated packages.\n"
     ]
    },
    {
     "name": "stderr",
     "output_type": "stream",
     "text": [
      "  WARNING: The script pyppeteer-install.exe is installed in 'C:\\Users\\hp\\AppData\\Roaming\\Python\\Python310\\Scripts' which is not on PATH.\n",
      "  Consider adding this directory to PATH or, if you prefer to suppress this warning, use --no-warn-script-location.\n"
     ]
    }
   ],
   "source": [
    "pip install nbconvert[webpdf]"
   ]
  },
  {
   "cell_type": "code",
   "execution_count": null,
   "id": "7d7f1a36",
   "metadata": {},
   "outputs": [],
   "source": [
    "jupyter nbconvert --to webpdf --Untitled.ipynb"
   ]
  },
  {
   "cell_type": "code",
   "execution_count": 1,
   "id": "1c28aadd",
   "metadata": {},
   "outputs": [],
   "source": [
    "def tri_par_selection(liste):\n",
    "    x = len(liste)\n",
    "    for i in range(x):\n",
    "        a = i\n",
    "        b = a+1\n",
    "        for y in range(b, x):\n",
    "            if liste[y] < liste[a]:\n",
    "                a = y\n",
    "        temp = liste[a]\n",
    "        liste[a] = liste[i]\n",
    "        liste[i] = temp\n",
    "        #print(liste)\n",
    "    return liste"
   ]
  },
  {
   "cell_type": "code",
   "execution_count": 2,
   "id": "eaaf1ff2",
   "metadata": {
    "scrolled": false
   },
   "outputs": [
    {
     "data": {
      "text/plain": [
       "[0, 1, 2, 2, 3, 3, 4, 5, 7, 9, 45, 67]"
      ]
     },
     "execution_count": 2,
     "metadata": {},
     "output_type": "execute_result"
    }
   ],
   "source": [
    "a = [5,4,7,9,3,2,0,1,2,3,67,45]\n",
    "tri_par_selection(a)"
   ]
  },
  {
   "cell_type": "markdown",
   "id": "4b33931a",
   "metadata": {},
   "source": [
    "La complexité de cet algorithme est de:\n",
    "\n",
    "O(1)+O(n^2)+O(1) = O(2)+O(n^2) = O(n^2)"
   ]
  },
  {
   "cell_type": "code",
   "execution_count": 3,
   "id": "a53a4415",
   "metadata": {},
   "outputs": [],
   "source": [
    "def tri_par_bulle(liste):\n",
    "    x = len(liste)\n",
    "    for i in range(x):\n",
    "        a = x-i-1\n",
    "        for y in range(0, a):\n",
    "            if liste[y] > liste[y+1]:\n",
    "                temp = liste[y]\n",
    "                liste[y] = liste[y+1]\n",
    "                liste[y+1] = temp\n",
    "            #print(liste)\n",
    "    return liste"
   ]
  },
  {
   "cell_type": "code",
   "execution_count": 4,
   "id": "6ac90550",
   "metadata": {},
   "outputs": [
    {
     "data": {
      "text/plain": [
       "[0, 1, 2, 2, 3, 3, 4, 5, 7, 9, 45, 67]"
      ]
     },
     "execution_count": 4,
     "metadata": {},
     "output_type": "execute_result"
    }
   ],
   "source": [
    "a = [5,4,7,9,3,2,0,1,2,3,67,45]\n",
    "tri_par_bulle(a)"
   ]
  },
  {
   "cell_type": "markdown",
   "id": "5bec07fb",
   "metadata": {},
   "source": [
    "La complexité de cet algorithme est de:\n",
    "\n",
    "O(1)+O(n^2)+O(1) = O(2)+O(n^2) = O(n^2)"
   ]
  },
  {
   "cell_type": "code",
   "execution_count": 5,
   "id": "3c0dd421",
   "metadata": {},
   "outputs": [],
   "source": [
    "def tri_par_fusion(liste):\n",
    "    x = len(liste)\n",
    "    if x>1:\n",
    "        y = x//2\n",
    "        l1 = liste[:y]\n",
    "        l2 = liste[y:]\n",
    "        tri_par_fusion(l1)\n",
    "        tri_par_fusion(l2)\n",
    "        i, a, b = 0,0,0\n",
    "        while a<len(l1) and b<len(l2):\n",
    "            if l1[a] > l2[b]:\n",
    "                liste[i] = l2[b]\n",
    "                b+=1\n",
    "            else:\n",
    "                liste[i] = l1[a]\n",
    "                a+=1\n",
    "            i+=1\n",
    "        while a < len(l1):\n",
    "            liste[i] = l1[a]\n",
    "            i+=1\n",
    "            a+=1\n",
    "        while b < len(l2):\n",
    "            liste[i] = l2[b]\n",
    "            i+=1\n",
    "            b+=1\n",
    "    return liste"
   ]
  },
  {
   "cell_type": "code",
   "execution_count": 6,
   "id": "e0080e19",
   "metadata": {},
   "outputs": [
    {
     "data": {
      "text/plain": [
       "[0, 1, 2, 2, 3, 3, 4, 5, 7, 9, 45, 67]"
      ]
     },
     "execution_count": 6,
     "metadata": {},
     "output_type": "execute_result"
    }
   ],
   "source": [
    "a = [5,4,7,9,3,2,0,1,2,3,67,45]\n",
    "tri_par_fusion(a)"
   ]
  },
  {
   "cell_type": "markdown",
   "id": "f4edb6ce",
   "metadata": {},
   "source": [
    "La complexité de cet algorithme est de:\n",
    "\n",
    "O(1)+O(1+8+6n+4n+4n)+O(1) = O(2)+O(9+14n) = O(2)+O(14n) = O(1)+O(n) = O(n)"
   ]
  },
  {
   "cell_type": "markdown",
   "id": "f282cc57",
   "metadata": {},
   "source": [
    "Ainsi, en se basant sur la complexité de chaque algorithme, je choisi que l'algoritme le plus éfficieent est l'algorithme de tri par fusion. Car sa complexité est polynomiale."
   ]
  }
 ],
 "metadata": {
  "kernelspec": {
   "display_name": "Python 3 (ipykernel)",
   "language": "python",
   "name": "python3"
  },
  "language_info": {
   "codemirror_mode": {
    "name": "ipython",
    "version": 3
   },
   "file_extension": ".py",
   "mimetype": "text/x-python",
   "name": "python",
   "nbconvert_exporter": "python",
   "pygments_lexer": "ipython3",
   "version": "3.10.9"
  }
 },
 "nbformat": 4,
 "nbformat_minor": 5
}
