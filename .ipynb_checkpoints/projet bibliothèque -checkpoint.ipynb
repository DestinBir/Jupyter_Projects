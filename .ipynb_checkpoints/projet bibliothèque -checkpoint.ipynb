{
 "cells": [
  {
   "cell_type": "code",
   "execution_count": null,
   "id": "98cb7910",
   "metadata": {
    "pycharm": {
     "is_executing": true
    }
   },
   "outputs": [],
   "source": [
    "def tri(liste):\n",
    "    x=len(liste)\n",
    "    for i in range(x):\n",
    "        for j in range(i, x):\n",
    "            if liste[j]<liste[i]:\n",
    "                temp = liste[i]\n",
    "                liste[i]=liste[j]\n",
    "                liste[j]=temp\n",
    "    return liste"
   ]
  },
  {
   "cell_type": "code",
   "execution_count": null,
   "id": "2ef991cf",
   "metadata": {
    "pycharm": {
     "is_executing": true
    }
   },
   "outputs": [],
   "source": [
    "def getThePath(data, filename):\n",
    "    path = data.get(filename)\n",
    "    return path"
   ]
  },
  {
   "cell_type": "code",
   "execution_count": null,
   "id": "c0046477",
   "metadata": {},
   "outputs": [],
   "source": [
    "def getTheFilename(data, path):\n",
    "    fn = data.get(path)\n",
    "    return fn"
   ]
  },
  {
   "cell_type": "code",
   "execution_count": null,
   "id": "99cc52bf",
   "metadata": {},
   "outputs": [],
   "source": [
    "def showAllFiles(data):\n",
    "    files = []\n",
    "    for a in data.keys():\n",
    "        files.append(a)\n",
    "    return files"
   ]
  },
  {
   "cell_type": "code",
   "execution_count": null,
   "id": "51e1c507",
   "metadata": {},
   "outputs": [],
   "source": [
    "def showAll(data):\n",
    "    try:\n",
    "        allData = {}\n",
    "        i = 0\n",
    "        filenames = showAllFiles(data)\n",
    "        for fn in filenames:\n",
    "            print \n",
    "            p = getThePath(data, fn)\n",
    "            p_i = creerImage(fn, p)\n",
    "            i+=1\n",
    "            allData[fn] = [p, p_i]\n",
    "            print(f'===> {i} files analysis on {len(filenames)}')\n",
    "    except FileExistsError:\n",
    "        allData = 'All files are analysis'\n",
    "    finally:\n",
    "        return allData"
   ]
  },
  {
   "cell_type": "code",
   "execution_count": null,
   "id": "0f6828c1",
   "metadata": {
    "scrolled": true
   },
   "outputs": [],
   "source": [
    "def createDataSet(path):\n",
    "    import os\n",
    "    liste = {}\n",
    "    for root, dirs, files in os.walk(path):\n",
    "        for el in files:\n",
    "            if el.endswith('.pdf'):\n",
    "                liste[el] = os.path.join(root, el)\n",
    "    return liste"
   ]
  },
  {
   "cell_type": "code",
   "execution_count": null,
   "id": "ec7bdeb7",
   "metadata": {},
   "outputs": [],
   "source": [
    "# format filname.extension\n",
    "def creerImage(filename, path, i):\n",
    "    from random import randint\n",
    "    import pypdfium2 as pdfium\n",
    "    from os import chdir, mkdir, remove\n",
    "    from os.path import join, normpath, expanduser, exists\n",
    "    pdf = pdfium.PdfDocument(path)\n",
    "    page = pdf.get_page(i)\n",
    "    pil_image = page.render(\n",
    "        scale = 1,\n",
    "        rotation=0,\n",
    "        crop=(0,0,0,0),\n",
    "    )\n",
    "    out = normpath(expanduser('~/documents'))\n",
    "    chdir(out)\n",
    "    if exixts(join(out, 'Bibliotheque/{filename}')):\n",
    "        remove(join(out, 'Bibliotheque/{filename}'))\n",
    "    else:\n",
    "        mkdir('Bibliotheque')\n",
    "    out = join(out, 'Bibliotheque/{filename}')\n",
    "    chdir(out)\n",
    "    intr = randint(100, 9999)\n",
    "    title = f'image_{intr}_{filename[0]}_{i}.png'\n",
    "    img = pil_image.to_pil()\n",
    "    img.save(title)\n",
    "    pat = join(out, title)\n",
    "    return pat"
   ]
  },
  {
   "cell_type": "code",
   "execution_count": null,
   "id": "453feaa1",
   "metadata": {},
   "outputs": [],
   "source": [
    "def lireAudio(path):\n",
    "    import PyPDF2, pyttsx3\n",
    "    path = open(path, 'rb')\n",
    "    pdfReader = PyPDF2.PdfReader(path)\n",
    "    speak = pyttsx3.init()\n",
    "    for pages in range(len(pdfReader.pages)):\n",
    "        text = pdfReader.pages[pages].extract_text()\n",
    "        speak.say(text)\n",
    "        speak.runAndWait()\n",
    "    speak.stop()"
   ]
  },
  {
   "cell_type": "code",
   "execution_count": null,
   "id": "681b77db",
   "metadata": {},
   "outputs": [],
   "source": [
    "from os import path\n",
    "\n",
    "path = path.normpath(path.expanduser(\"~/desktop\"))\n",
    "data = createDataSet(path)\n",
    "showAll(data)"
   ]
  },
  {
   "cell_type": "code",
   "execution_count": null,
   "id": "e75a8357",
   "metadata": {},
   "outputs": [],
   "source": [
    "p = 'C:\\\\Users\\\\hp\\\\desktop\\\\livre\\\\CODING AND COMPUTER\\\\Neuro Linguistic Programming ( PDFDrive ).pdf'\n",
    "lireAudio(p)"
   ]
  },
  {
   "cell_type": "code",
   "execution_count": 8,
   "id": "7ee1ff93",
   "metadata": {},
   "outputs": [
    {
     "name": "stdout",
     "output_type": "stream",
     "text": [
      "Neuro_Linguistic_Programming_(_PDFDrive_)\n"
     ]
    }
   ],
   "source": [
    "s = 'Neuro Linguistic Programming ( PDFDrive ).pdf'\n",
    "\n",
    "def getFileName_2(s):\n",
    "    r = s[:-4]\n",
    "    r = r.split(' ')\n",
    "    n = ''\n",
    "    for x in range(len(r)):\n",
    "        if x != 0:\n",
    "            n = f'{n}_{r[x]}'\n",
    "        else:\n",
    "            n=r[0]\n",
    "    return n\n",
    "print(getFileName(s))"
   ]
  },
  {
   "cell_type": "code",
   "execution_count": null,
   "id": "78e70a91",
   "metadata": {},
   "outputs": [],
   "source": []
  },
  {
   "cell_type": "code",
   "execution_count": null,
   "id": "bb64d825",
   "metadata": {},
   "outputs": [],
   "source": []
  }
 ],
 "metadata": {
  "kernelspec": {
   "display_name": "Python 3 (ipykernel)",
   "language": "python",
   "name": "python3"
  },
  "language_info": {
   "codemirror_mode": {
    "name": "ipython",
    "version": 3
   },
   "file_extension": ".py",
   "mimetype": "text/x-python",
   "name": "python",
   "nbconvert_exporter": "python",
   "pygments_lexer": "ipython3",
   "version": "3.10.9"
  }
 },
 "nbformat": 4,
 "nbformat_minor": 5
}
