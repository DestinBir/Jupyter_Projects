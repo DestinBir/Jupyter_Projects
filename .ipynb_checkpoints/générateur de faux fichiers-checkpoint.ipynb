{
 "cells": [
  {
   "cell_type": "code",
   "execution_count": null,
   "id": "cabd6aca",
   "metadata": {},
   "outputs": [
    {
     "name": "stdout",
     "output_type": "stream",
     "text": [
      "Users\\hp\\Desktop\\GDSC\n"
     ]
    }
   ],
   "source": [
    "import os\n",
    "\n",
    "path = r\"C:\\Users\\hp\\Desktop\\GDSC\"\n",
    "os.chdir(path)\n",
    "\n",
    "path_2 = os.path.normpath(os.path.expanduser(\"~/documents\"))\n",
    "os.chdir(path_2)\n",
    "\"\"\"\n",
    "    os.mkdir('Test')\n",
    "    path_2 = path_2+'\\Test'\n",
    "\"\"\"\n",
    "os.chdir(path_2)\n",
    "l1=[]\n",
    "with open('sandlist.txt', 'w+') as File:\n",
    "    for root, directory, file in os.walk(path):\n",
    "        r = formatter(root)\n",
    "        l1.append(r)\n",
    "        File.write(root+'\\n')\n",
    "    File.close()   \n",
    "    \n",
    "create_root(l1)"
   ]
  },
  {
   "cell_type": "code",
   "execution_count": 1,
   "id": "2393320d",
   "metadata": {},
   "outputs": [],
   "source": [
    "def formatter(string):\n",
    "    liste = string.split(\"\\\\\")\n",
    "    liste.pop(0)\n",
    "    s = ''\n",
    "    for a in liste: s+=f'{a}/'\n",
    "    return s          "
   ]
  },
  {
   "cell_type": "code",
   "execution_count": 2,
   "id": "7c819bca",
   "metadata": {},
   "outputs": [],
   "source": [
    "def create_others(l1,l2):\n",
    "    a1,a2 = l1,l2\n",
    "    def create_new(l1, l2):\n",
    "        a = make_list(l2[0])\n",
    "        j = 0\n",
    "        l = []\n",
    "\n",
    "        for i in l2:\n",
    "            l2[l2.index(i)] = make_str(remove_a_l1(l1, make_list(i)))\n",
    "\n",
    "        for i in l2:\n",
    "            if i == '':\n",
    "                l2.remove(i)\n",
    "\n",
    "        while j < len(l2):\n",
    "            inter = intersect(make_list(l2[j]), a)\n",
    "            a = inter\n",
    "            l.append(a)\n",
    "            j+=1\n",
    "        \n",
    "        print(make_path(l1))\n",
    "        path = os.path.join(os.getcwd(), make_path(l1))\n",
    "        os.chdir(path)\n",
    "        return l2\n",
    "    \n",
    "    def create_folder(l):\n",
    "        a = make_list(l[0])\n",
    "        i = 0\n",
    "        while i < len(l) and a != []:\n",
    "            inter = intersect(make_list(l[i]), a)\n",
    "            a = inter\n",
    "            i+=1\n",
    "        if a != []:\n",
    "            f = a.split('/')\n",
    "            folders = make_str(f)\n",
    "            os.mkdir(folders)\n",
    "    \n",
    "    a = create_new(a1, a2)\n",
    "    while a!=[]:\n",
    "        create_folder(a)\n",
    "\n",
    "\n",
    "def create_root(l):\n",
    "    a = make_list(l[0])\n",
    "    i = 0\n",
    "    while i < len(l) and a != []:\n",
    "        inter = intersect(make_list(l[i]), a)\n",
    "        a = inter\n",
    "        i+=1\n",
    "    if a != []:\n",
    "        f = a.split('/')\n",
    "        folders = make_str(f)\n",
    "        os.makedirs(folders)\n",
    "    \n",
    "    create_others(make_list(folders), l)\n",
    "    \n"
   ]
  },
  {
   "cell_type": "code",
   "execution_count": 3,
   "id": "55b42882",
   "metadata": {},
   "outputs": [],
   "source": [
    "def intersect(l1, l2):\n",
    "    intersect = [x for x in l1 if x in l2]\n",
    "    s = ''\n",
    "    for i in intersect:\n",
    "        s+=f'{i}/'\n",
    "    return s"
   ]
  },
  {
   "cell_type": "code",
   "execution_count": 4,
   "id": "40045237",
   "metadata": {},
   "outputs": [],
   "source": [
    "def make_list(l):\n",
    "    l = l.split('/')\n",
    "    return l\n",
    "def make_path(l):\n",
    "    f = l[0]\n",
    "    for i in l:\n",
    "        if i != l[0]:\n",
    "             f += f'\\{i}'\n",
    "    return f\n",
    "def make_str(l):\n",
    "    f = l[0]\n",
    "    for i in l:\n",
    "        if i != l[0] and i != l[-1]:\n",
    "             f += f'/{i}'\n",
    "    return f"
   ]
  },
  {
   "cell_type": "code",
   "execution_count": 5,
   "id": "fa8069ed",
   "metadata": {},
   "outputs": [],
   "source": [
    "def remove_a_l1(l1,l2):\n",
    "    a = 0\n",
    "    value = []\n",
    "    for i in l1:\n",
    "        if i == l2[a]:\n",
    "            value.append(l2[a])\n",
    "        a = a+1\n",
    "    for i in value:\n",
    "        l2.remove(i)\n",
    "    return l2"
   ]
  },
  {
   "cell_type": "code",
   "execution_count": null,
   "id": "5f5acb0e",
   "metadata": {},
   "outputs": [],
   "source": []
  },
  {
   "cell_type": "code",
   "execution_count": null,
   "id": "5a139620",
   "metadata": {},
   "outputs": [],
   "source": []
  },
  {
   "cell_type": "code",
   "execution_count": null,
   "id": "522d4c77",
   "metadata": {},
   "outputs": [],
   "source": []
  }
 ],
 "metadata": {
  "kernelspec": {
   "display_name": "Python 3 (ipykernel)",
   "language": "python",
   "name": "python3"
  },
  "language_info": {
   "codemirror_mode": {
    "name": "ipython",
    "version": 3
   },
   "file_extension": ".py",
   "mimetype": "text/x-python",
   "name": "python",
   "nbconvert_exporter": "python",
   "pygments_lexer": "ipython3",
   "version": "3.10.9"
  }
 },
 "nbformat": 4,
 "nbformat_minor": 5
}
