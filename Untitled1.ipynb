{
 "cells": [
  {
   "cell_type": "code",
   "execution_count": 3,
   "id": "9c7286f6",
   "metadata": {},
   "outputs": [],
   "source": [
    "def get_current_time():\n",
    "    from datetime import datetime\n",
    "    now = datetime.now()\n",
    "    now = now.strftime(\"%d/%m/%Y %H:%M\")\n",
    "    return now"
   ]
  },
  {
   "cell_type": "code",
   "execution_count": 15,
   "id": "48ff297b",
   "metadata": {},
   "outputs": [
    {
     "data": {
      "text/plain": [
       "'30/05/2023 02:56'"
      ]
     },
     "execution_count": 15,
     "metadata": {},
     "output_type": "execute_result"
    }
   ],
   "source": [
    "get_current_time()"
   ]
  },
  {
   "cell_type": "code",
   "execution_count": 18,
   "id": "561693d1",
   "metadata": {},
   "outputs": [],
   "source": [
    "def push_notification(content):\n",
    "    from plyer import notification as nt\n",
    "    title = \"Hey I'm your Virtual Study Assistant\"\n",
    "    nt.notify(\n",
    "        title = title,\n",
    "        message = content,\n",
    "        app_icon = None,\n",
    "        timeout = 20,\n",
    "        toast = False\n",
    "    )"
   ]
  },
  {
   "cell_type": "code",
   "execution_count": 21,
   "id": "af8378e2",
   "metadata": {},
   "outputs": [],
   "source": [
    "push_notification('Hey')"
   ]
  },
  {
   "cell_type": "code",
   "execution_count": null,
   "id": "3e0ae30f",
   "metadata": {},
   "outputs": [],
   "source": []
  }
 ],
 "metadata": {
  "kernelspec": {
   "display_name": "Python 3 (ipykernel)",
   "language": "python",
   "name": "python3"
  },
  "language_info": {
   "codemirror_mode": {
    "name": "ipython",
    "version": 3
   },
   "file_extension": ".py",
   "mimetype": "text/x-python",
   "name": "python",
   "nbconvert_exporter": "python",
   "pygments_lexer": "ipython3",
   "version": "3.10.9"
  }
 },
 "nbformat": 4,
 "nbformat_minor": 5
}
