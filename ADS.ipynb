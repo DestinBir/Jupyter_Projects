{
 "cells": [
  {
   "cell_type": "markdown",
   "id": "919a8f2c",
   "metadata": {},
   "source": [
    "# TRAVAIL PRATIQUE DU COURS D'ASD"
   ]
  },
  {
   "cell_type": "markdown",
   "id": "a348d1cd",
   "metadata": {},
   "source": [
    "## Présenté par BIRINGANINE BASEME DESTIN"
   ]
  },
  {
   "cell_type": "code",
   "execution_count": 1,
   "id": "0854f41f",
   "metadata": {},
   "outputs": [],
   "source": [
    "def tri_par_selection(liste):\n",
    "    x = len(liste)\n",
    "    for i in range(x):\n",
    "        a = i\n",
    "        b = a+1\n",
    "        for y in range(b, x):\n",
    "            if liste[y] < liste[a]:\n",
    "                a = y\n",
    "        temp = liste[a]\n",
    "        liste[a] = liste[i]\n",
    "        liste[i] = temp\n",
    "        #print(liste)\n",
    "    return liste"
   ]
  },
  {
   "cell_type": "code",
   "execution_count": 2,
   "id": "88c1027b",
   "metadata": {
    "scrolled": false
   },
   "outputs": [
    {
     "data": {
      "text/plain": [
       "[0, 1, 2, 2, 3, 3, 4, 5, 7, 9, 45, 67]"
      ]
     },
     "execution_count": 2,
     "metadata": {},
     "output_type": "execute_result"
    }
   ],
   "source": [
    "a = [5,4,7,9,3,2,0,1,2,3,67,45]\n",
    "tri_par_selection(a)"
   ]
  },
  {
   "cell_type": "markdown",
   "id": "5de6320c",
   "metadata": {},
   "source": [
    "La complexité de cet algorithme est de:\n",
    "\n",
    "O(1)+O(n^2)+O(1) = O(2)+O(n^2) = O(n^2)"
   ]
  },
  {
   "cell_type": "code",
   "execution_count": 3,
   "id": "e36e6901",
   "metadata": {},
   "outputs": [],
   "source": [
    "def tri_par_bulle(liste):\n",
    "    x = len(liste)\n",
    "    for i in range(x):\n",
    "        a = x-i-1\n",
    "        for y in range(0, a):\n",
    "            if liste[y] > liste[y+1]:\n",
    "                temp = liste[y]\n",
    "                liste[y] = liste[y+1]\n",
    "                liste[y+1] = temp\n",
    "            #print(liste)\n",
    "    return liste"
   ]
  },
  {
   "cell_type": "code",
   "execution_count": 4,
   "id": "151b1c44",
   "metadata": {},
   "outputs": [
    {
     "data": {
      "text/plain": [
       "[0, 1, 2, 2, 3, 3, 4, 5, 7, 9, 45, 67]"
      ]
     },
     "execution_count": 4,
     "metadata": {},
     "output_type": "execute_result"
    }
   ],
   "source": [
    "a = [5,4,7,9,3,2,0,1,2,3,67,45]\n",
    "tri_par_bulle(a)"
   ]
  },
  {
   "cell_type": "markdown",
   "id": "388ba141",
   "metadata": {},
   "source": [
    "La complexité de cet algorithme est de:\n",
    "\n",
    "O(1)+O(n^2)+O(1) = O(2)+O(n^2) = O(n^2)"
   ]
  },
  {
   "cell_type": "code",
   "execution_count": 5,
   "id": "2626d9d7",
   "metadata": {},
   "outputs": [],
   "source": [
    "def tri_par_fusion(liste):\n",
    "    x = len(liste)\n",
    "    if x>1:\n",
    "        y = x//2\n",
    "        l1 = liste[:y]\n",
    "        l2 = liste[y:]\n",
    "        tri_par_fusion(l1)\n",
    "        tri_par_fusion(l2)\n",
    "        i, a, b = 0,0,0\n",
    "        while a<len(l1) and b<len(l2):\n",
    "            if l1[a] > l2[b]:\n",
    "                liste[i] = l2[b]\n",
    "                b+=1\n",
    "            else:\n",
    "                liste[i] = l1[a]\n",
    "                a+=1\n",
    "            i+=1\n",
    "        while a < len(l1):\n",
    "            liste[i] = l1[a]\n",
    "            i+=1\n",
    "            a+=1\n",
    "        while b < len(l2):\n",
    "            liste[i] = l2[b]\n",
    "            i+=1\n",
    "            b+=1\n",
    "    return liste"
   ]
  },
  {
   "cell_type": "code",
   "execution_count": 6,
   "id": "7900f9fa",
   "metadata": {},
   "outputs": [
    {
     "data": {
      "text/plain": [
       "[0, 1, 2, 2, 3, 3, 4, 5, 7, 9, 45, 67]"
      ]
     },
     "execution_count": 6,
     "metadata": {},
     "output_type": "execute_result"
    }
   ],
   "source": [
    "a = [5,4,7,9,3,2,0,1,2,3,67,45]\n",
    "tri_par_fusion(a)"
   ]
  },
  {
   "cell_type": "markdown",
   "id": "f39a8572",
   "metadata": {},
   "source": [
    "La complexité de cet algorithme est de:\n",
    "\n",
    "O(1)+O(1+8+6n+4n+4n)+O(1) = O(2)+O(9+14n) = O(2)+O(14n) = O(1)+O(n) = O(n)"
   ]
  },
  {
   "cell_type": "markdown",
   "id": "f6a3ebee",
   "metadata": {},
   "source": [
    "Ainsi, en se basant sur la complexité de chaque algorithme, je choisi que l'algoritme le plus éfficieent est l'algorithme de tri par fusion. Car sa complexité est polynomiale."
   ]
  }
 ],
 "metadata": {
  "kernelspec": {
   "display_name": "Python 3 (ipykernel)",
   "language": "python",
   "name": "python3"
  },
  "language_info": {
   "codemirror_mode": {
    "name": "ipython",
    "version": 3
   },
   "file_extension": ".py",
   "mimetype": "text/x-python",
   "name": "python",
   "nbconvert_exporter": "python",
   "pygments_lexer": "ipython3",
   "version": "3.10.9"
  }
 },
 "nbformat": 4,
 "nbformat_minor": 5
}
