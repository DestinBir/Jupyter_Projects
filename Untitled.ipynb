{
 "cells": [
  {
   "cell_type": "code",
   "execution_count": 1,
   "id": "14ba55bf",
   "metadata": {},
   "outputs": [],
   "source": [
    "import numpy as np"
   ]
  },
  {
   "cell_type": "code",
   "execution_count": 9,
   "id": "c4a973c0",
   "metadata": {},
   "outputs": [
    {
     "data": {
      "text/plain": [
       "array([ 0.87837838, -1.41891892])"
      ]
     },
     "execution_count": 9,
     "metadata": {},
     "output_type": "execute_result"
    }
   ],
   "source": [
    "a=np.array([[-18,10],[10,-22]])\n",
    "b=np.array([-30, 40])\n",
    "np.linalg.solve(a,b)"
   ]
  },
  {
   "cell_type": "code",
   "execution_count": 2,
   "id": "15df2778",
   "metadata": {},
   "outputs": [
    {
     "name": "stdout",
     "output_type": "stream",
     "text": [
      "Defaulting to user installation because normal site-packages is not writeable\n",
      "Collecting PySimpleGUI\n",
      "  Using cached PySimpleGUI-4.60.4-py3-none-any.whl (509 kB)\n",
      "Installing collected packages: PySimpleGUI\n",
      "Successfully installed PySimpleGUI-4.60.4\n",
      "Note: you may need to restart the kernel to use updated packages.\n"
     ]
    }
   ],
   "source": [
    "\n"
   ]
  },
  {
   "cell_type": "code",
   "execution_count": 3,
   "id": "1e55245e",
   "metadata": {},
   "outputs": [
    {
     "name": "stdout",
     "output_type": "stream",
     "text": [
      "Defaulting to user installation because normal site-packages is not writeable\n",
      "Requirement already satisfied: PySimpleGUI in c:\\users\\hp\\appdata\\roaming\\python\\python310\\site-packages (4.60.4)\n",
      "Note: you may need to restart the kernel to use updated packages.\n"
     ]
    }
   ],
   "source": []
  },
  {
   "cell_type": "code",
   "execution_count": 2,
   "id": "d35aee08",
   "metadata": {},
   "outputs": [
    {
     "name": "stdout",
     "output_type": "stream",
     "text": [
      "Collecting package metadata (current_repodata.json): ...working... done\n",
      "Note: you may need to restart the kernel to use updated packages.\n",
      "\n",
      "Solving environment: ...working... done\n",
      "\n",
      "## Package Plan ##\n",
      "\n",
      "  environment location: C:\\ProgramData\\anaconda3\n",
      "\n",
      "  added / updated specs:\n",
      "    - poppler\n",
      "\n",
      "\n",
      "The following NEW packages will be INSTALLED:\n",
      "\n",
      "  boltons            conda-forge/noarch::boltons-23.0.0-pyhd8ed1ab_0 \n",
      "  boost-cpp          conda-forge/win-64::boost-cpp-1.78.0-h5b4e17d_0 \n",
      "  cairo              conda-forge/win-64::cairo-1.16.0-h63a05c6_1001 \n",
      "  expat              conda-forge/win-64::expat-2.5.0-h63175ca_1 \n",
      "  fontconfig         pkgs/main/win-64::fontconfig-2.14.1-hc0defaf_1 \n",
      "  jsonpatch          conda-forge/noarch::jsonpatch-1.32-pyhd8ed1ab_0 \n",
      "  jsonpointer        conda-forge/noarch::jsonpointer-2.0-py_0 \n",
      "  libexpat           conda-forge/win-64::libexpat-2.5.0-h63175ca_1 \n",
      "  pixman             conda-forge/win-64::pixman-0.38.0-hfa6e2cd_1003 \n",
      "  poppler            pkgs/main/win-64::poppler-22.12.0-h268424c_0 \n",
      "  poppler-data       conda-forge/noarch::poppler-data-0.4.12-hd8ed1ab_0 \n",
      "\n",
      "The following packages will be UPDATED:\n",
      "\n",
      "  conda                              23.1.0-py310haa95532_0 --> 23.3.1-py310haa95532_0 \n",
      "\n",
      "The following packages will be SUPERSEDED by a higher-priority channel:\n",
      "\n",
      "  ca-certificates    pkgs/main::ca-certificates-2023.01.10~ --> conda-forge::ca-certificates-2022.12.7-h5b45459_0 \n",
      "  certifi            pkgs/main/win-64::certifi-2022.12.7-p~ --> conda-forge/noarch::certifi-2022.12.7-pyhd8ed1ab_0 \n",
      "\n",
      "\n",
      "\n",
      "Downloading and Extracting Packages\n",
      "\n",
      "\n",
      "Preparing transaction: ...working... done\n",
      "Verifying transaction: ...working... failed\n"
     ]
    },
    {
     "name": "stderr",
     "output_type": "stream",
     "text": [
      "\n",
      "EnvironmentNotWritableError: The current user does not have write permissions to the target environment.\n",
      "  environment location: C:\\ProgramData\\anaconda3\n",
      "\n",
      "\n"
     ]
    }
   ],
   "source": []
  },
  {
   "cell_type": "code",
   "execution_count": 1,
   "id": "aa4c3b78",
   "metadata": {},
   "outputs": [],
   "source": [
    "import PySimpleGUI as ps"
   ]
  },
  {
   "cell_type": "code",
   "execution_count": null,
   "id": "4036cde4",
   "metadata": {},
   "outputs": [],
   "source": [
    "ps.popup()"
   ]
  }
 ],
 "metadata": {
  "kernelspec": {
   "display_name": "Python 3 (ipykernel)",
   "language": "python",
   "name": "python3"
  },
  "language_info": {
   "codemirror_mode": {
    "name": "ipython",
    "version": 3
   },
   "file_extension": ".py",
   "mimetype": "text/x-python",
   "name": "python",
   "nbconvert_exporter": "python",
   "pygments_lexer": "ipython3",
   "version": "3.10.9"
  }
 },
 "nbformat": 4,
 "nbformat_minor": 5
}
